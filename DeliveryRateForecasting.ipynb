{
 "cells": [
  {
   "cell_type": "markdown",
   "metadata": {},
   "source": [
    "\n",
    "# ARIMA and Seasonal ARIMA\n",
    "\n",
    "\n",
    "## Autoregressive Integrated Moving Averages\n",
    "\n",
    "The general process for ARIMA models is the following:\n",
    "* Visualize the Time Series Data\n",
    "* Make the time series data stationary\n",
    "* Plot the Correlation and AutoCorrelation Charts\n",
    "* Construct the ARIMA Model or Seasonal ARIMA based on the data\n",
    "* Use the model to make predictions\n"
   ]
  },
  {
   "cell_type": "code",
   "execution_count": 485,
   "metadata": {},
   "outputs": [],
   "source": [
    "import numpy as np\n",
    "import pandas as pd\n",
    "import re\n",
    "import matplotlib.pyplot as plt\n",
    "%matplotlib inline"
   ]
  },
  {
   "cell_type": "code",
   "execution_count": 486,
   "metadata": {},
   "outputs": [],
   "source": [
    "demand=pd.read_csv(\"D:/DS Training Videos/ML algo script/6.Time series/forecasting/DeliveryRate.csv\")"
   ]
  },
  {
   "cell_type": "code",
   "execution_count": 487,
   "metadata": {},
   "outputs": [
    {
     "data": {
      "text/html": [
       "<div>\n",
       "<style scoped>\n",
       "    .dataframe tbody tr th:only-of-type {\n",
       "        vertical-align: middle;\n",
       "    }\n",
       "\n",
       "    .dataframe tbody tr th {\n",
       "        vertical-align: top;\n",
       "    }\n",
       "\n",
       "    .dataframe thead th {\n",
       "        text-align: right;\n",
       "    }\n",
       "</style>\n",
       "<table border=\"1\" class=\"dataframe\">\n",
       "  <thead>\n",
       "    <tr style=\"text-align: right;\">\n",
       "      <th></th>\n",
       "      <th>Month</th>\n",
       "      <th>DeliveryRate</th>\n",
       "    </tr>\n",
       "  </thead>\n",
       "  <tbody>\n",
       "    <tr>\n",
       "      <th>0</th>\n",
       "      <td>13-Jan</td>\n",
       "      <td>70.28</td>\n",
       "    </tr>\n",
       "    <tr>\n",
       "      <th>1</th>\n",
       "      <td>13-Feb</td>\n",
       "      <td>69.47</td>\n",
       "    </tr>\n",
       "    <tr>\n",
       "      <th>2</th>\n",
       "      <td>13-Mar</td>\n",
       "      <td>78.90</td>\n",
       "    </tr>\n",
       "    <tr>\n",
       "      <th>3</th>\n",
       "      <td>13-Apr</td>\n",
       "      <td>74.56</td>\n",
       "    </tr>\n",
       "    <tr>\n",
       "      <th>4</th>\n",
       "      <td>13-May</td>\n",
       "      <td>76.73</td>\n",
       "    </tr>\n",
       "  </tbody>\n",
       "</table>\n",
       "</div>"
      ],
      "text/plain": [
       "    Month  DeliveryRate\n",
       "0  13-Jan         70.28\n",
       "1  13-Feb         69.47\n",
       "2  13-Mar         78.90\n",
       "3  13-Apr         74.56\n",
       "4  13-May         76.73"
      ]
     },
     "execution_count": 487,
     "metadata": {},
     "output_type": "execute_result"
    }
   ],
   "source": [
    "demand.head()"
   ]
  },
  {
   "cell_type": "code",
   "execution_count": 488,
   "metadata": {},
   "outputs": [
    {
     "data": {
      "text/plain": [
       "Month           0\n",
       "DeliveryRate    0\n",
       "dtype: int64"
      ]
     },
     "execution_count": 488,
     "metadata": {},
     "output_type": "execute_result"
    }
   ],
   "source": [
    "demand.isnull().sum()"
   ]
  },
  {
   "cell_type": "code",
   "execution_count": 489,
   "metadata": {},
   "outputs": [
    {
     "data": {
      "text/plain": [
       "Month            object\n",
       "DeliveryRate    float64\n",
       "dtype: object"
      ]
     },
     "execution_count": 489,
     "metadata": {},
     "output_type": "execute_result"
    }
   ],
   "source": [
    "demand.dtypes"
   ]
  },
  {
   "cell_type": "code",
   "execution_count": 490,
   "metadata": {},
   "outputs": [],
   "source": [
    "demand['Month_Date']=demand['Month'].str.split('-').str[0]"
   ]
  },
  {
   "cell_type": "code",
   "execution_count": 491,
   "metadata": {},
   "outputs": [],
   "source": [
    "demand['Month_No']=demand['Month'].str.split('-').str[1].map({\"Jan\":\"01\",\"Feb\":\"02\",\"Mar\":\"03\",\"Apr\":\"04\",\"May\":\"05\",\"Jun\":\"06\",\"Jul\":\"07\",\"Aug\":\"08\",\"Sep\":\"09\",\"Oct\":\"10\",\"Nov\":\"11\",\"Dec\":12})"
   ]
  },
  {
   "cell_type": "code",
   "execution_count": 492,
   "metadata": {},
   "outputs": [],
   "source": [
    "demand['Year']=\"2020\""
   ]
  },
  {
   "cell_type": "code",
   "execution_count": 493,
   "metadata": {},
   "outputs": [
    {
     "data": {
      "text/plain": [
       "array(['01', '02', '03', '04', '05', '06', '07', '08', '09', '10', '11',\n",
       "       12], dtype=object)"
      ]
     },
     "execution_count": 493,
     "metadata": {},
     "output_type": "execute_result"
    }
   ],
   "source": [
    "demand['Month_No'].unique()"
   ]
  },
  {
   "cell_type": "code",
   "execution_count": 494,
   "metadata": {},
   "outputs": [
    {
     "data": {
      "text/html": [
       "<div>\n",
       "<style scoped>\n",
       "    .dataframe tbody tr th:only-of-type {\n",
       "        vertical-align: middle;\n",
       "    }\n",
       "\n",
       "    .dataframe tbody tr th {\n",
       "        vertical-align: top;\n",
       "    }\n",
       "\n",
       "    .dataframe thead th {\n",
       "        text-align: right;\n",
       "    }\n",
       "</style>\n",
       "<table border=\"1\" class=\"dataframe\">\n",
       "  <thead>\n",
       "    <tr style=\"text-align: right;\">\n",
       "      <th></th>\n",
       "      <th>Month</th>\n",
       "      <th>DeliveryRate</th>\n",
       "      <th>Month_Date</th>\n",
       "      <th>Month_No</th>\n",
       "      <th>Year</th>\n",
       "    </tr>\n",
       "  </thead>\n",
       "  <tbody>\n",
       "    <tr>\n",
       "      <th>0</th>\n",
       "      <td>13-Jan</td>\n",
       "      <td>70.28</td>\n",
       "      <td>13</td>\n",
       "      <td>01</td>\n",
       "      <td>2020</td>\n",
       "    </tr>\n",
       "    <tr>\n",
       "      <th>1</th>\n",
       "      <td>13-Feb</td>\n",
       "      <td>69.47</td>\n",
       "      <td>13</td>\n",
       "      <td>02</td>\n",
       "      <td>2020</td>\n",
       "    </tr>\n",
       "    <tr>\n",
       "      <th>2</th>\n",
       "      <td>13-Mar</td>\n",
       "      <td>78.90</td>\n",
       "      <td>13</td>\n",
       "      <td>03</td>\n",
       "      <td>2020</td>\n",
       "    </tr>\n",
       "    <tr>\n",
       "      <th>3</th>\n",
       "      <td>13-Apr</td>\n",
       "      <td>74.56</td>\n",
       "      <td>13</td>\n",
       "      <td>04</td>\n",
       "      <td>2020</td>\n",
       "    </tr>\n",
       "    <tr>\n",
       "      <th>4</th>\n",
       "      <td>13-May</td>\n",
       "      <td>76.73</td>\n",
       "      <td>13</td>\n",
       "      <td>05</td>\n",
       "      <td>2020</td>\n",
       "    </tr>\n",
       "  </tbody>\n",
       "</table>\n",
       "</div>"
      ],
      "text/plain": [
       "    Month  DeliveryRate Month_Date Month_No  Year\n",
       "0  13-Jan         70.28         13       01  2020\n",
       "1  13-Feb         69.47         13       02  2020\n",
       "2  13-Mar         78.90         13       03  2020\n",
       "3  13-Apr         74.56         13       04  2020\n",
       "4  13-May         76.73         13       05  2020"
      ]
     },
     "execution_count": 494,
     "metadata": {},
     "output_type": "execute_result"
    }
   ],
   "source": [
    "demand.head()"
   ]
  },
  {
   "cell_type": "code",
   "execution_count": 495,
   "metadata": {},
   "outputs": [],
   "source": [
    "demand['Date']=demand['Month_Date'].astype(str)+'-'+demand['Month_No'].astype(str)+'-'+demand['Year'].astype(str)"
   ]
  },
  {
   "cell_type": "code",
   "execution_count": 496,
   "metadata": {},
   "outputs": [
    {
     "data": {
      "text/html": [
       "<div>\n",
       "<style scoped>\n",
       "    .dataframe tbody tr th:only-of-type {\n",
       "        vertical-align: middle;\n",
       "    }\n",
       "\n",
       "    .dataframe tbody tr th {\n",
       "        vertical-align: top;\n",
       "    }\n",
       "\n",
       "    .dataframe thead th {\n",
       "        text-align: right;\n",
       "    }\n",
       "</style>\n",
       "<table border=\"1\" class=\"dataframe\">\n",
       "  <thead>\n",
       "    <tr style=\"text-align: right;\">\n",
       "      <th></th>\n",
       "      <th>Month</th>\n",
       "      <th>DeliveryRate</th>\n",
       "      <th>Month_Date</th>\n",
       "      <th>Month_No</th>\n",
       "      <th>Year</th>\n",
       "      <th>Date</th>\n",
       "    </tr>\n",
       "  </thead>\n",
       "  <tbody>\n",
       "    <tr>\n",
       "      <th>0</th>\n",
       "      <td>13-Jan</td>\n",
       "      <td>70.28</td>\n",
       "      <td>13</td>\n",
       "      <td>01</td>\n",
       "      <td>2020</td>\n",
       "      <td>13-01-2020</td>\n",
       "    </tr>\n",
       "    <tr>\n",
       "      <th>1</th>\n",
       "      <td>13-Feb</td>\n",
       "      <td>69.47</td>\n",
       "      <td>13</td>\n",
       "      <td>02</td>\n",
       "      <td>2020</td>\n",
       "      <td>13-02-2020</td>\n",
       "    </tr>\n",
       "    <tr>\n",
       "      <th>2</th>\n",
       "      <td>13-Mar</td>\n",
       "      <td>78.90</td>\n",
       "      <td>13</td>\n",
       "      <td>03</td>\n",
       "      <td>2020</td>\n",
       "      <td>13-03-2020</td>\n",
       "    </tr>\n",
       "    <tr>\n",
       "      <th>3</th>\n",
       "      <td>13-Apr</td>\n",
       "      <td>74.56</td>\n",
       "      <td>13</td>\n",
       "      <td>04</td>\n",
       "      <td>2020</td>\n",
       "      <td>13-04-2020</td>\n",
       "    </tr>\n",
       "    <tr>\n",
       "      <th>4</th>\n",
       "      <td>13-May</td>\n",
       "      <td>76.73</td>\n",
       "      <td>13</td>\n",
       "      <td>05</td>\n",
       "      <td>2020</td>\n",
       "      <td>13-05-2020</td>\n",
       "    </tr>\n",
       "  </tbody>\n",
       "</table>\n",
       "</div>"
      ],
      "text/plain": [
       "    Month  DeliveryRate Month_Date Month_No  Year        Date\n",
       "0  13-Jan         70.28         13       01  2020  13-01-2020\n",
       "1  13-Feb         69.47         13       02  2020  13-02-2020\n",
       "2  13-Mar         78.90         13       03  2020  13-03-2020\n",
       "3  13-Apr         74.56         13       04  2020  13-04-2020\n",
       "4  13-May         76.73         13       05  2020  13-05-2020"
      ]
     },
     "execution_count": 496,
     "metadata": {},
     "output_type": "execute_result"
    }
   ],
   "source": [
    "demand.head()\n"
   ]
  },
  {
   "cell_type": "code",
   "execution_count": 497,
   "metadata": {},
   "outputs": [],
   "source": [
    "demand=demand.drop(['Month','Month_No','Year','Month_Date'],axis=1)"
   ]
  },
  {
   "cell_type": "code",
   "execution_count": 498,
   "metadata": {},
   "outputs": [
    {
     "data": {
      "text/html": [
       "<div>\n",
       "<style scoped>\n",
       "    .dataframe tbody tr th:only-of-type {\n",
       "        vertical-align: middle;\n",
       "    }\n",
       "\n",
       "    .dataframe tbody tr th {\n",
       "        vertical-align: top;\n",
       "    }\n",
       "\n",
       "    .dataframe thead th {\n",
       "        text-align: right;\n",
       "    }\n",
       "</style>\n",
       "<table border=\"1\" class=\"dataframe\">\n",
       "  <thead>\n",
       "    <tr style=\"text-align: right;\">\n",
       "      <th></th>\n",
       "      <th>DeliveryRate</th>\n",
       "      <th>Date</th>\n",
       "    </tr>\n",
       "  </thead>\n",
       "  <tbody>\n",
       "    <tr>\n",
       "      <th>0</th>\n",
       "      <td>70.28</td>\n",
       "      <td>13-01-2020</td>\n",
       "    </tr>\n",
       "    <tr>\n",
       "      <th>1</th>\n",
       "      <td>69.47</td>\n",
       "      <td>13-02-2020</td>\n",
       "    </tr>\n",
       "    <tr>\n",
       "      <th>2</th>\n",
       "      <td>78.90</td>\n",
       "      <td>13-03-2020</td>\n",
       "    </tr>\n",
       "    <tr>\n",
       "      <th>3</th>\n",
       "      <td>74.56</td>\n",
       "      <td>13-04-2020</td>\n",
       "    </tr>\n",
       "    <tr>\n",
       "      <th>4</th>\n",
       "      <td>76.73</td>\n",
       "      <td>13-05-2020</td>\n",
       "    </tr>\n",
       "  </tbody>\n",
       "</table>\n",
       "</div>"
      ],
      "text/plain": [
       "   DeliveryRate        Date\n",
       "0         70.28  13-01-2020\n",
       "1         69.47  13-02-2020\n",
       "2         78.90  13-03-2020\n",
       "3         74.56  13-04-2020\n",
       "4         76.73  13-05-2020"
      ]
     },
     "execution_count": 498,
     "metadata": {},
     "output_type": "execute_result"
    }
   ],
   "source": [
    "demand.head()"
   ]
  },
  {
   "cell_type": "code",
   "execution_count": 499,
   "metadata": {},
   "outputs": [],
   "source": [
    "demand['Date']=pd.to_datetime(demand['Date'])"
   ]
  },
  {
   "cell_type": "code",
   "execution_count": 500,
   "metadata": {},
   "outputs": [],
   "source": [
    "#demand['Date']=demand['Date'].sort_values()"
   ]
  },
  {
   "cell_type": "code",
   "execution_count": 501,
   "metadata": {},
   "outputs": [],
   "source": [
    "demand=demand.sort_values(by='Date',ascending=True)"
   ]
  },
  {
   "cell_type": "code",
   "execution_count": 502,
   "metadata": {},
   "outputs": [],
   "source": [
    "demand.set_index('Date',inplace=True)"
   ]
  },
  {
   "cell_type": "code",
   "execution_count": 503,
   "metadata": {},
   "outputs": [
    {
     "data": {
      "text/html": [
       "<div>\n",
       "<style scoped>\n",
       "    .dataframe tbody tr th:only-of-type {\n",
       "        vertical-align: middle;\n",
       "    }\n",
       "\n",
       "    .dataframe tbody tr th {\n",
       "        vertical-align: top;\n",
       "    }\n",
       "\n",
       "    .dataframe thead th {\n",
       "        text-align: right;\n",
       "    }\n",
       "</style>\n",
       "<table border=\"1\" class=\"dataframe\">\n",
       "  <thead>\n",
       "    <tr style=\"text-align: right;\">\n",
       "      <th></th>\n",
       "      <th>DeliveryRate</th>\n",
       "    </tr>\n",
       "    <tr>\n",
       "      <th>Date</th>\n",
       "      <th></th>\n",
       "    </tr>\n",
       "  </thead>\n",
       "  <tbody>\n",
       "    <tr>\n",
       "      <th>2020-01-13</th>\n",
       "      <td>70.28</td>\n",
       "    </tr>\n",
       "    <tr>\n",
       "      <th>2020-01-14</th>\n",
       "      <td>82.95</td>\n",
       "    </tr>\n",
       "    <tr>\n",
       "      <th>2020-01-15</th>\n",
       "      <td>85.31</td>\n",
       "    </tr>\n",
       "    <tr>\n",
       "      <th>2020-02-13</th>\n",
       "      <td>69.47</td>\n",
       "    </tr>\n",
       "    <tr>\n",
       "      <th>2020-02-14</th>\n",
       "      <td>85.48</td>\n",
       "    </tr>\n",
       "  </tbody>\n",
       "</table>\n",
       "</div>"
      ],
      "text/plain": [
       "            DeliveryRate\n",
       "Date                    \n",
       "2020-01-13         70.28\n",
       "2020-01-14         82.95\n",
       "2020-01-15         85.31\n",
       "2020-02-13         69.47\n",
       "2020-02-14         85.48"
      ]
     },
     "execution_count": 503,
     "metadata": {},
     "output_type": "execute_result"
    }
   ],
   "source": [
    "demand.head()"
   ]
  },
  {
   "cell_type": "markdown",
   "metadata": {},
   "source": [
    "# Visualising the data"
   ]
  },
  {
   "cell_type": "markdown",
   "metadata": {},
   "source": [
    "We could see data is not stationary which can be confirmed with following tests"
   ]
  },
  {
   "cell_type": "code",
   "execution_count": 504,
   "metadata": {},
   "outputs": [
    {
     "data": {
      "text/plain": [
       "<matplotlib.axes._subplots.AxesSubplot at 0x1912bd1e5f8>"
      ]
     },
     "execution_count": 504,
     "metadata": {},
     "output_type": "execute_result"
    },
    {
     "data": {
      "image/png": "[encoded data removed]",
      "text/plain": [
       "<Figure size 432x288 with 1 Axes>"
      ]
     },
     "metadata": {},
     "output_type": "display_data"
    }
   ],
   "source": [
    "demand.plot()"
   ]
  },
  {
   "cell_type": "markdown",
   "metadata": {},
   "source": [
    "# Test for Stationarity of data"
   ]
  },
  {
   "cell_type": "markdown",
   "metadata": {},
   "source": [
    "1. Rolling mean and standard deviation plot\n",
    "  - If Rolling mean and std are parallel to x-axis then we can say its stationary\n",
    "2. Adf Test\n",
    "  - If p<=0.05 we reject null hypothesis and do differencing until it satisfies adf test"
   ]
  },
  {
   "cell_type": "markdown",
   "metadata": {},
   "source": [
    "# Rolling mean and standard deviation"
   ]
  },
  {
   "cell_type": "code",
   "execution_count": 505,
   "metadata": {},
   "outputs": [],
   "source": [
    "rolling_mean = demand['DeliveryRate'].rolling(window = 12).mean()\n",
    "rolling_std = demand['DeliveryRate'].rolling(window = 12).std()\n",
    "#rolling_mean"
   ]
  },
  {
   "cell_type": "code",
   "execution_count": 506,
   "metadata": {},
   "outputs": [
    {
     "data": {
      "image/png": "[encoded data removed]",
      "text/plain": [
       "<Figure size 432x288 with 1 Axes>"
      ]
     },
     "metadata": {},
     "output_type": "display_data"
    }
   ],
   "source": [
    "plt.plot(demand['DeliveryRate'], color = 'blue', label = 'Original')\n",
    "plt.plot(rolling_mean, color = 'red', label = 'Rolling Mean')\n",
    "plt.plot(rolling_std, color = 'black', label = 'Rolling Std')\n",
    "plt.legend(loc = 'best')\n",
    "plt.title('Rolling Mean & Rolling Standard Deviation')\n",
    "plt.show()"
   ]
  },
  {
   "cell_type": "markdown",
   "metadata": {},
   "source": [
    "# ADF Test"
   ]
  },
  {
   "cell_type": "code",
   "execution_count": 507,
   "metadata": {},
   "outputs": [],
   "source": [
    "from statsmodels.tsa.stattools import adfuller"
   ]
  },
  {
   "cell_type": "code",
   "execution_count": 508,
   "metadata": {},
   "outputs": [],
   "source": [
    "# Ho: It is non stationary\n",
    "#H1: It is stationary\n",
    "\n",
    "def adfuller_test(deliveryrate):\n",
    "    result=adfuller(deliveryrate)\n",
    "    labels = ['ADF Test Statistic','p-value','#Lags Used','Number of Observations Used']\n",
    "    for value,label in zip(result,labels):\n",
    "        print(label+' : '+str(value) )\n",
    "    if result[1] <= 0.05:\n",
    "        print(\"strong evidence against the null hypothesis(Ho), reject the null hypothesis. Data has no unit root and is stationary\")\n",
    "    else:\n",
    "        print(\"weak evidence against null hypothesis, time series has a unit root, indicating it is non-stationary \")\n",
    "    "
   ]
  },
  {
   "cell_type": "markdown",
   "metadata": {},
   "source": [
    "# Differencing"
   ]
  },
  {
   "cell_type": "code",
   "execution_count": 509,
   "metadata": {},
   "outputs": [],
   "source": [
    "demand['DeliveryRate'] = demand.DeliveryRate.diff()"
   ]
  },
  {
   "cell_type": "code",
   "execution_count": 510,
   "metadata": {},
   "outputs": [
    {
     "name": "stdout",
     "output_type": "stream",
     "text": [
      "ADF Test Statistic : -1.9229103565477825\n",
      "p-value : 0.321361288954206\n",
      "#Lags Used : 8\n",
      "Number of Observations Used : 26\n",
      "weak evidence against null hypothesis, time series has a unit root, indicating it is non-stationary \n"
     ]
    }
   ],
   "source": [
    "adfuller_test(demand['DeliveryRate'].dropna())"
   ]
  },
  {
   "cell_type": "code",
   "execution_count": 511,
   "metadata": {},
   "outputs": [],
   "source": [
    "demand['DeliveryRate'] = demand.DeliveryRate.diff()"
   ]
  },
  {
   "cell_type": "code",
   "execution_count": 512,
   "metadata": {},
   "outputs": [
    {
     "name": "stdout",
     "output_type": "stream",
     "text": [
      "ADF Test Statistic : -5.435771248770987\n",
      "p-value : 2.8479240630988873e-06\n",
      "#Lags Used : 7\n",
      "Number of Observations Used : 26\n",
      "strong evidence against the null hypothesis(Ho), reject the null hypothesis. Data has no unit root and is stationary\n"
     ]
    }
   ],
   "source": [
    "adfuller_test(demand['DeliveryRate'].dropna())"
   ]
  },
  {
   "cell_type": "code",
   "execution_count": 513,
   "metadata": {},
   "outputs": [
    {
     "data": {
      "text/plain": [
       "Date\n",
       "2020-01-13      NaN\n",
       "2020-01-14      NaN\n",
       "2020-01-15   -10.31\n",
       "2020-02-13   -18.20\n",
       "2020-02-14    31.85\n",
       "Name: DeliveryRate, dtype: float64"
      ]
     },
     "execution_count": 513,
     "metadata": {},
     "output_type": "execute_result"
    }
   ],
   "source": [
    "demand['DeliveryRate'].head()"
   ]
  },
  {
   "cell_type": "code",
   "execution_count": 514,
   "metadata": {},
   "outputs": [],
   "source": [
    "demand=demand.dropna(axis=0, how='any')"
   ]
  },
  {
   "cell_type": "code",
   "execution_count": 515,
   "metadata": {},
   "outputs": [
    {
     "data": {
      "text/html": [
       "<div>\n",
       "<style scoped>\n",
       "    .dataframe tbody tr th:only-of-type {\n",
       "        vertical-align: middle;\n",
       "    }\n",
       "\n",
       "    .dataframe tbody tr th {\n",
       "        vertical-align: top;\n",
       "    }\n",
       "\n",
       "    .dataframe thead th {\n",
       "        text-align: right;\n",
       "    }\n",
       "</style>\n",
       "<table border=\"1\" class=\"dataframe\">\n",
       "  <thead>\n",
       "    <tr style=\"text-align: right;\">\n",
       "      <th></th>\n",
       "      <th>DeliveryRate</th>\n",
       "    </tr>\n",
       "    <tr>\n",
       "      <th>Date</th>\n",
       "      <th></th>\n",
       "    </tr>\n",
       "  </thead>\n",
       "  <tbody>\n",
       "    <tr>\n",
       "      <th>2020-01-15</th>\n",
       "      <td>-10.31</td>\n",
       "    </tr>\n",
       "    <tr>\n",
       "      <th>2020-02-13</th>\n",
       "      <td>-18.20</td>\n",
       "    </tr>\n",
       "    <tr>\n",
       "      <th>2020-02-14</th>\n",
       "      <td>31.85</td>\n",
       "    </tr>\n",
       "    <tr>\n",
       "      <th>2020-02-15</th>\n",
       "      <td>-22.28</td>\n",
       "    </tr>\n",
       "    <tr>\n",
       "      <th>2020-03-13</th>\n",
       "      <td>5.96</td>\n",
       "    </tr>\n",
       "  </tbody>\n",
       "</table>\n",
       "</div>"
      ],
      "text/plain": [
       "            DeliveryRate\n",
       "Date                    \n",
       "2020-01-15        -10.31\n",
       "2020-02-13        -18.20\n",
       "2020-02-14         31.85\n",
       "2020-02-15        -22.28\n",
       "2020-03-13          5.96"
      ]
     },
     "execution_count": 515,
     "metadata": {},
     "output_type": "execute_result"
    }
   ],
   "source": [
    "demand.head()"
   ]
  },
  {
   "cell_type": "code",
   "execution_count": 516,
   "metadata": {},
   "outputs": [],
   "source": [
    "rolling_mean = demand['DeliveryRate'].rolling(window = 12).mean()\n",
    "rolling_std = demand['DeliveryRate'].rolling(window = 12).std()\n",
    "#rolling_mean"
   ]
  },
  {
   "cell_type": "code",
   "execution_count": 517,
   "metadata": {},
   "outputs": [
    {
     "data": {
      "image/png": "[encoded data removed]",
      "text/plain": [
       "<Figure size 432x288 with 1 Axes>"
      ]
     },
     "metadata": {},
     "output_type": "display_data"
    }
   ],
   "source": [
    "plt.plot(demand['DeliveryRate'], color = 'blue', label = 'Original')\n",
    "plt.plot(rolling_mean, color = 'red', label = 'Rolling Mean')\n",
    "plt.plot(rolling_std, color = 'black', label = 'Rolling Std')\n",
    "plt.legend(loc = 'best')\n",
    "plt.title('Rolling Mean & Rolling Standard Deviation')\n",
    "plt.show()"
   ]
  },
  {
   "cell_type": "code",
   "execution_count": 518,
   "metadata": {},
   "outputs": [
    {
     "data": {
      "image/png": "[encoded data removed]",
      "text/plain": [
       "<Figure size 432x288 with 1 Axes>"
      ]
     },
     "metadata": {},
     "output_type": "display_data"
    }
   ],
   "source": [
    "from pandas.tools.plotting import autocorrelation_plot\n",
    "autocorrelation_plot(demand['DeliveryRate'])\n",
    "plt.show()"
   ]
  },
  {
   "cell_type": "code",
   "execution_count": 519,
   "metadata": {},
   "outputs": [
    {
     "data": {
      "image/png": "[encoded data removed]",
      "text/plain": [
       "<Figure size 432x288 with 1 Axes>"
      ]
     },
     "metadata": {},
     "output_type": "display_data"
    },
    {
     "data": {
      "image/png": "[encoded data removed]",
      "text/plain": [
       "<Figure size 432x288 with 1 Axes>"
      ]
     },
     "metadata": {},
     "output_type": "display_data"
    }
   ],
   "source": [
    "from statsmodels.graphics.tsaplots import plot_acf, plot_pacf\n",
    "plot_acf(demand['DeliveryRate'],lags=20)\n",
    "plt.show()\n",
    "plot_pacf(demand['DeliveryRate'],lags = 20)\n",
    "plt.show()"
   ]
  },
  {
   "cell_type": "code",
   "execution_count": 522,
   "metadata": {},
   "outputs": [],
   "source": [
    "import pmdarima as pm\n",
    "import warnings \n",
    "from pmdarima import auto_arima \n",
    "from statsmodels.tsa.arima_model import ARIMA\n",
    "from statsmodels.tsa.statespace.sarimax import SARIMAX \n",
    "warnings.filterwarnings(\"ignore\") "
   ]
  },
  {
   "cell_type": "code",
   "execution_count": 523,
   "metadata": {},
   "outputs": [],
   "source": [
    "training_percentage = 0.7\n",
    "train_size = int(len(demand) * training_percentage)\n",
    "train, test =demand[:train_size], demand[train_size:]"
   ]
  },
  {
   "cell_type": "code",
   "execution_count": 524,
   "metadata": {},
   "outputs": [],
   "source": [
    "model = pm.auto_arima(demand['DeliveryRate'])                 "
   ]
  },
  {
   "cell_type": "code",
   "execution_count": 525,
   "metadata": {},
   "outputs": [
    {
     "data": {
      "text/plain": [
       "ARIMA(order=(2, 0, 2))"
      ]
     },
     "execution_count": 525,
     "metadata": {},
     "output_type": "execute_result"
    }
   ],
   "source": [
    "model"
   ]
  },
  {
   "cell_type": "code",
   "execution_count": 532,
   "metadata": {},
   "outputs": [
    {
     "data": {
      "text/html": [
       "<table class=\"simpletable\">\n",
       "<caption>ARMA Model Results</caption>\n",
       "<tr>\n",
       "  <th>Dep. Variable:</th>   <td>DeliveryRate</td>   <th>  No. Observations:  </th>    <td>34</td>   \n",
       "</tr>\n",
       "<tr>\n",
       "  <th>Model:</th>            <td>ARMA(2, 2)</td>    <th>  Log Likelihood     </th> <td>-102.527</td>\n",
       "</tr>\n",
       "<tr>\n",
       "  <th>Method:</th>             <td>css-mle</td>     <th>  S.D. of innovations</th>   <td>4.300</td> \n",
       "</tr>\n",
       "<tr>\n",
       "  <th>Date:</th>          <td>Mon, 27 Jul 2020</td> <th>  AIC                </th>  <td>217.055</td>\n",
       "</tr>\n",
       "<tr>\n",
       "  <th>Time:</th>              <td>12:41:15</td>     <th>  BIC                </th>  <td>226.213</td>\n",
       "</tr>\n",
       "<tr>\n",
       "  <th>Sample:</th>                <td>0</td>        <th>  HQIC               </th>  <td>220.178</td>\n",
       "</tr>\n",
       "<tr>\n",
       "  <th></th>                       <td> </td>        <th>                     </th>     <td> </td>   \n",
       "</tr>\n",
       "</table>\n",
       "<table class=\"simpletable\">\n",
       "<tr>\n",
       "           <td></td>             <th>coef</th>     <th>std err</th>      <th>z</th>      <th>P>|z|</th>  <th>[0.025</th>    <th>0.975]</th>  \n",
       "</tr>\n",
       "<tr>\n",
       "  <th>const</th>              <td>   -0.0079</td> <td>    0.047</td> <td>   -0.169</td> <td> 0.866</td> <td>   -0.100</td> <td>    0.084</td>\n",
       "</tr>\n",
       "<tr>\n",
       "  <th>ar.L1.DeliveryRate</th> <td>   -1.3913</td> <td>    0.102</td> <td>  -13.651</td> <td> 0.000</td> <td>   -1.591</td> <td>   -1.192</td>\n",
       "</tr>\n",
       "<tr>\n",
       "  <th>ar.L2.DeliveryRate</th> <td>   -0.8156</td> <td>    0.110</td> <td>   -7.435</td> <td> 0.000</td> <td>   -1.031</td> <td>   -0.601</td>\n",
       "</tr>\n",
       "<tr>\n",
       "  <th>ma.L1.DeliveryRate</th> <td>-5.299e-08</td> <td>    0.018</td> <td>-2.99e-06</td> <td> 1.000</td> <td>   -0.035</td> <td>    0.035</td>\n",
       "</tr>\n",
       "<tr>\n",
       "  <th>ma.L2.DeliveryRate</th> <td>   -1.0000</td> <td>    0.018</td> <td>  -56.491</td> <td> 0.000</td> <td>   -1.035</td> <td>   -0.965</td>\n",
       "</tr>\n",
       "</table>\n",
       "<table class=\"simpletable\">\n",
       "<caption>Roots</caption>\n",
       "<tr>\n",
       "    <td></td>   <th>            Real</th>  <th>         Imaginary</th> <th>         Modulus</th>  <th>        Frequency</th>\n",
       "</tr>\n",
       "<tr>\n",
       "  <th>AR.1</th> <td>          -0.8529</td> <td>          -0.7061j</td> <td>           1.1073</td> <td>          -0.3899</td>\n",
       "</tr>\n",
       "<tr>\n",
       "  <th>AR.2</th> <td>          -0.8529</td> <td>          +0.7061j</td> <td>           1.1073</td> <td>           0.3899</td>\n",
       "</tr>\n",
       "<tr>\n",
       "  <th>MA.1</th> <td>           1.0000</td> <td>          +0.0000j</td> <td>           1.0000</td> <td>           0.0000</td>\n",
       "</tr>\n",
       "<tr>\n",
       "  <th>MA.2</th> <td>          -1.0000</td> <td>          +0.0000j</td> <td>           1.0000</td> <td>           0.5000</td>\n",
       "</tr>\n",
       "</table>"
      ],
      "text/plain": [
       "<class 'statsmodels.iolib.summary.Summary'>\n",
       "\"\"\"\n",
       "                              ARMA Model Results                              \n",
       "==============================================================================\n",
       "Dep. Variable:           DeliveryRate   No. Observations:                   34\n",
       "Model:                     ARMA(2, 2)   Log Likelihood                -102.527\n",
       "Method:                       css-mle   S.D. of innovations              4.300\n",
       "Date:                Mon, 27 Jul 2020   AIC                            217.055\n",
       "Time:                        12:41:15   BIC                            226.213\n",
       "Sample:                             0   HQIC                           220.178\n",
       "                                                                              \n",
       "======================================================================================\n",
       "                         coef    std err          z      P>|z|      [0.025      0.975]\n",
       "--------------------------------------------------------------------------------------\n",
       "const                 -0.0079      0.047     -0.169      0.866      -0.100       0.084\n",
       "ar.L1.DeliveryRate    -1.3913      0.102    -13.651      0.000      -1.591      -1.192\n",
       "ar.L2.DeliveryRate    -0.8156      0.110     -7.435      0.000      -1.031      -0.601\n",
       "ma.L1.DeliveryRate -5.299e-08      0.018  -2.99e-06      1.000      -0.035       0.035\n",
       "ma.L2.DeliveryRate    -1.0000      0.018    -56.491      0.000      -1.035      -0.965\n",
       "                                    Roots                                    \n",
       "=============================================================================\n",
       "                  Real          Imaginary           Modulus         Frequency\n",
       "-----------------------------------------------------------------------------\n",
       "AR.1           -0.8529           -0.7061j            1.1073           -0.3899\n",
       "AR.2           -0.8529           +0.7061j            1.1073            0.3899\n",
       "MA.1            1.0000           +0.0000j            1.0000            0.0000\n",
       "MA.2           -1.0000           +0.0000j            1.0000            0.5000\n",
       "-----------------------------------------------------------------------------\n",
       "\"\"\""
      ]
     },
     "execution_count": 532,
     "metadata": {},
     "output_type": "execute_result"
    }
   ],
   "source": [
    "model=ARIMA(demand['DeliveryRate'],order=(2,0,2))\n",
    "model_fit=model.fit()\n",
    "model_fit.summary()"
   ]
  },
  {
   "cell_type": "code",
   "execution_count": 533,
   "metadata": {},
   "outputs": [],
   "source": [
    "start = len(train) \n",
    "end = len(train) + len(test) - 1  \n",
    "pred= model_fit.predict(start,end,typ = 'levels').rename(\"Predictions\")"
   ]
  },
  {
   "cell_type": "code",
   "execution_count": 534,
   "metadata": {},
   "outputs": [
    {
     "name": "stdout",
     "output_type": "stream",
     "text": [
      "rmse: 13.04601290840639\n",
      "mae: 10.597450107124255\n",
      "mape: 1.9553597902242357\n"
     ]
    }
   ],
   "source": [
    "rmse = np.mean((pred.values- test.values)**2)**.5  \n",
    "\n",
    "#mean absolute error\n",
    "mae = np.mean(np.abs(pred.values - test.values)) \n",
    "mape = np.mean(np.abs(pred.values- test.values)/np.abs(test.values))  # MAPE\n",
    "print('rmse:',rmse)\n",
    "print('mae:',mae)\n",
    "print('mape:',mape)"
   ]
  },
  {
   "cell_type": "code",
   "execution_count": 535,
   "metadata": {},
   "outputs": [
    {
     "data": {
      "text/plain": [
       "<matplotlib.axes._subplots.AxesSubplot at 0x1913097e940>"
      ]
     },
     "execution_count": 535,
     "metadata": {},
     "output_type": "execute_result"
    },
    {
     "data": {
      "image/png": "[encoded data removed]",
      "text/plain": [
       "<Figure size 432x288 with 1 Axes>"
      ]
     },
     "metadata": {},
     "output_type": "display_data"
    }
   ],
   "source": [
    "pred.plot(legend = True) \n",
    "demand['DeliveryRate'].plot(legend = True) "
   ]
  },
  {
   "cell_type": "code",
   "execution_count": 536,
   "metadata": {},
   "outputs": [
    {
     "data": {
      "text/plain": [
       "0.7844119339643087"
      ]
     },
     "execution_count": 536,
     "metadata": {},
     "output_type": "execute_result"
    }
   ],
   "source": [
    "from sklearn.metrics import r2_score\n",
    "#test = pred['Predictions']\n",
    "r2_score(test['DeliveryRate'].dropna(),pred)"
   ]
  },
  {
   "cell_type": "code",
   "execution_count": 537,
   "metadata": {},
   "outputs": [],
   "source": [
    "fc, se, confidence = model_fit.forecast(alpha=0.05,steps=10)  "
   ]
  },
  {
   "cell_type": "code",
   "execution_count": 538,
   "metadata": {},
   "outputs": [
    {
     "data": {
      "text/plain": [
       "array([-3.18282934,  7.52854562, -7.90386452,  4.83088054, -0.30003206,\n",
       "       -3.54808096,  5.15580542, -4.30475998,  1.75869054,  1.03881476])"
      ]
     },
     "execution_count": 538,
     "metadata": {},
     "output_type": "execute_result"
    }
   ],
   "source": [
    "fc"
   ]
  },
  {
   "cell_type": "code",
   "execution_count": 539,
   "metadata": {},
   "outputs": [
    {
     "data": {
      "text/plain": [
       "Date\n",
       "2020-09-14     4.686257\n",
       "2020-09-15   -12.955735\n",
       "2020-10-13     1.475822\n",
       "2020-10-14    -7.134734\n",
       "2020-10-15     1.589842\n",
       "2020-11-13     9.011004\n",
       "2020-11-14    -9.455114\n",
       "2020-11-15    14.835212\n",
       "2020-12-13    -0.164622\n",
       "2020-12-14   -15.091366\n",
       "2020-12-15     9.207951\n",
       "Name: Predictions, dtype: float64"
      ]
     },
     "execution_count": 539,
     "metadata": {},
     "output_type": "execute_result"
    }
   ],
   "source": [
    "pred"
   ]
  },
  {
   "cell_type": "code",
   "execution_count": 540,
   "metadata": {},
   "outputs": [],
   "source": [
    "#demand['forecast']=pd.Series(fc)"
   ]
  },
  {
   "cell_type": "code",
   "execution_count": 541,
   "metadata": {},
   "outputs": [],
   "source": [
    "from pandas.tseries.offsets import DateOffset\n",
    "future_dates=[demand.index[-1]+ DateOffset(months=x)for x in range(0,24)]"
   ]
  },
  {
   "cell_type": "code",
   "execution_count": 542,
   "metadata": {},
   "outputs": [
    {
     "data": {
      "text/plain": [
       "[Timestamp('2020-12-15 00:00:00'),\n",
       " Timestamp('2021-01-15 00:00:00'),\n",
       " Timestamp('2021-02-15 00:00:00'),\n",
       " Timestamp('2021-03-15 00:00:00'),\n",
       " Timestamp('2021-04-15 00:00:00'),\n",
       " Timestamp('2021-05-15 00:00:00'),\n",
       " Timestamp('2021-06-15 00:00:00'),\n",
       " Timestamp('2021-07-15 00:00:00'),\n",
       " Timestamp('2021-08-15 00:00:00'),\n",
       " Timestamp('2021-09-15 00:00:00'),\n",
       " Timestamp('2021-10-15 00:00:00'),\n",
       " Timestamp('2021-11-15 00:00:00'),\n",
       " Timestamp('2021-12-15 00:00:00'),\n",
       " Timestamp('2022-01-15 00:00:00'),\n",
       " Timestamp('2022-02-15 00:00:00'),\n",
       " Timestamp('2022-03-15 00:00:00'),\n",
       " Timestamp('2022-04-15 00:00:00'),\n",
       " Timestamp('2022-05-15 00:00:00'),\n",
       " Timestamp('2022-06-15 00:00:00'),\n",
       " Timestamp('2022-07-15 00:00:00'),\n",
       " Timestamp('2022-08-15 00:00:00'),\n",
       " Timestamp('2022-09-15 00:00:00'),\n",
       " Timestamp('2022-10-15 00:00:00'),\n",
       " Timestamp('2022-11-15 00:00:00')]"
      ]
     },
     "execution_count": 542,
     "metadata": {},
     "output_type": "execute_result"
    }
   ],
   "source": [
    "future_dates"
   ]
  },
  {
   "cell_type": "code",
   "execution_count": 543,
   "metadata": {},
   "outputs": [],
   "source": [
    "future_datest_df=pd.DataFrame(index=future_dates[1:],columns=demand.columns)"
   ]
  },
  {
   "cell_type": "code",
   "execution_count": 544,
   "metadata": {},
   "outputs": [
    {
     "data": {
      "text/html": [
       "<div>\n",
       "<style scoped>\n",
       "    .dataframe tbody tr th:only-of-type {\n",
       "        vertical-align: middle;\n",
       "    }\n",
       "\n",
       "    .dataframe tbody tr th {\n",
       "        vertical-align: top;\n",
       "    }\n",
       "\n",
       "    .dataframe thead th {\n",
       "        text-align: right;\n",
       "    }\n",
       "</style>\n",
       "<table border=\"1\" class=\"dataframe\">\n",
       "  <thead>\n",
       "    <tr style=\"text-align: right;\">\n",
       "      <th></th>\n",
       "      <th>DeliveryRate</th>\n",
       "    </tr>\n",
       "  </thead>\n",
       "  <tbody>\n",
       "    <tr>\n",
       "      <th>2021-01-15</th>\n",
       "      <td>NaN</td>\n",
       "    </tr>\n",
       "    <tr>\n",
       "      <th>2021-02-15</th>\n",
       "      <td>NaN</td>\n",
       "    </tr>\n",
       "    <tr>\n",
       "      <th>2021-03-15</th>\n",
       "      <td>NaN</td>\n",
       "    </tr>\n",
       "    <tr>\n",
       "      <th>2021-04-15</th>\n",
       "      <td>NaN</td>\n",
       "    </tr>\n",
       "    <tr>\n",
       "      <th>2021-05-15</th>\n",
       "      <td>NaN</td>\n",
       "    </tr>\n",
       "    <tr>\n",
       "      <th>2021-06-15</th>\n",
       "      <td>NaN</td>\n",
       "    </tr>\n",
       "    <tr>\n",
       "      <th>2021-07-15</th>\n",
       "      <td>NaN</td>\n",
       "    </tr>\n",
       "    <tr>\n",
       "      <th>2021-08-15</th>\n",
       "      <td>NaN</td>\n",
       "    </tr>\n",
       "    <tr>\n",
       "      <th>2021-09-15</th>\n",
       "      <td>NaN</td>\n",
       "    </tr>\n",
       "    <tr>\n",
       "      <th>2021-10-15</th>\n",
       "      <td>NaN</td>\n",
       "    </tr>\n",
       "    <tr>\n",
       "      <th>2021-11-15</th>\n",
       "      <td>NaN</td>\n",
       "    </tr>\n",
       "    <tr>\n",
       "      <th>2021-12-15</th>\n",
       "      <td>NaN</td>\n",
       "    </tr>\n",
       "    <tr>\n",
       "      <th>2022-01-15</th>\n",
       "      <td>NaN</td>\n",
       "    </tr>\n",
       "    <tr>\n",
       "      <th>2022-02-15</th>\n",
       "      <td>NaN</td>\n",
       "    </tr>\n",
       "    <tr>\n",
       "      <th>2022-03-15</th>\n",
       "      <td>NaN</td>\n",
       "    </tr>\n",
       "    <tr>\n",
       "      <th>2022-04-15</th>\n",
       "      <td>NaN</td>\n",
       "    </tr>\n",
       "    <tr>\n",
       "      <th>2022-05-15</th>\n",
       "      <td>NaN</td>\n",
       "    </tr>\n",
       "    <tr>\n",
       "      <th>2022-06-15</th>\n",
       "      <td>NaN</td>\n",
       "    </tr>\n",
       "    <tr>\n",
       "      <th>2022-07-15</th>\n",
       "      <td>NaN</td>\n",
       "    </tr>\n",
       "    <tr>\n",
       "      <th>2022-08-15</th>\n",
       "      <td>NaN</td>\n",
       "    </tr>\n",
       "    <tr>\n",
       "      <th>2022-09-15</th>\n",
       "      <td>NaN</td>\n",
       "    </tr>\n",
       "    <tr>\n",
       "      <th>2022-10-15</th>\n",
       "      <td>NaN</td>\n",
       "    </tr>\n",
       "    <tr>\n",
       "      <th>2022-11-15</th>\n",
       "      <td>NaN</td>\n",
       "    </tr>\n",
       "  </tbody>\n",
       "</table>\n",
       "</div>"
      ],
      "text/plain": [
       "           DeliveryRate\n",
       "2021-01-15          NaN\n",
       "2021-02-15          NaN\n",
       "2021-03-15          NaN\n",
       "2021-04-15          NaN\n",
       "2021-05-15          NaN\n",
       "2021-06-15          NaN\n",
       "2021-07-15          NaN\n",
       "2021-08-15          NaN\n",
       "2021-09-15          NaN\n",
       "2021-10-15          NaN\n",
       "2021-11-15          NaN\n",
       "2021-12-15          NaN\n",
       "2022-01-15          NaN\n",
       "2022-02-15          NaN\n",
       "2022-03-15          NaN\n",
       "2022-04-15          NaN\n",
       "2022-05-15          NaN\n",
       "2022-06-15          NaN\n",
       "2022-07-15          NaN\n",
       "2022-08-15          NaN\n",
       "2022-09-15          NaN\n",
       "2022-10-15          NaN\n",
       "2022-11-15          NaN"
      ]
     },
     "execution_count": 544,
     "metadata": {},
     "output_type": "execute_result"
    }
   ],
   "source": [
    "future_datest_df"
   ]
  },
  {
   "cell_type": "code",
   "execution_count": 545,
   "metadata": {},
   "outputs": [],
   "source": [
    "future_demand=pd.concat([demand,future_datest_df])"
   ]
  },
  {
   "cell_type": "code",
   "execution_count": 546,
   "metadata": {},
   "outputs": [
    {
     "data": {
      "text/plain": [
       "(57, 1)"
      ]
     },
     "execution_count": 546,
     "metadata": {},
     "output_type": "execute_result"
    }
   ],
   "source": [
    "future_demand.shape"
   ]
  },
  {
   "cell_type": "code",
   "execution_count": 547,
   "metadata": {},
   "outputs": [
    {
     "data": {
      "text/html": [
       "<div>\n",
       "<style scoped>\n",
       "    .dataframe tbody tr th:only-of-type {\n",
       "        vertical-align: middle;\n",
       "    }\n",
       "\n",
       "    .dataframe tbody tr th {\n",
       "        vertical-align: top;\n",
       "    }\n",
       "\n",
       "    .dataframe thead th {\n",
       "        text-align: right;\n",
       "    }\n",
       "</style>\n",
       "<table border=\"1\" class=\"dataframe\">\n",
       "  <thead>\n",
       "    <tr style=\"text-align: right;\">\n",
       "      <th></th>\n",
       "      <th>DeliveryRate</th>\n",
       "    </tr>\n",
       "  </thead>\n",
       "  <tbody>\n",
       "    <tr>\n",
       "      <th>count</th>\n",
       "      <td>34.000000</td>\n",
       "    </tr>\n",
       "    <tr>\n",
       "      <th>mean</th>\n",
       "      <td>-0.371471</td>\n",
       "    </tr>\n",
       "    <tr>\n",
       "      <th>std</th>\n",
       "      <td>11.813019</td>\n",
       "    </tr>\n",
       "    <tr>\n",
       "      <th>min</th>\n",
       "      <td>-22.280000</td>\n",
       "    </tr>\n",
       "    <tr>\n",
       "      <th>25%</th>\n",
       "      <td>-8.110000</td>\n",
       "    </tr>\n",
       "    <tr>\n",
       "      <th>50%</th>\n",
       "      <td>1.020000</td>\n",
       "    </tr>\n",
       "    <tr>\n",
       "      <th>75%</th>\n",
       "      <td>6.035000</td>\n",
       "    </tr>\n",
       "    <tr>\n",
       "      <th>max</th>\n",
       "      <td>31.850000</td>\n",
       "    </tr>\n",
       "  </tbody>\n",
       "</table>\n",
       "</div>"
      ],
      "text/plain": [
       "       DeliveryRate\n",
       "count     34.000000\n",
       "mean      -0.371471\n",
       "std       11.813019\n",
       "min      -22.280000\n",
       "25%       -8.110000\n",
       "50%        1.020000\n",
       "75%        6.035000\n",
       "max       31.850000"
      ]
     },
     "execution_count": 547,
     "metadata": {},
     "output_type": "execute_result"
    }
   ],
   "source": [
    "future_demand.describe()"
   ]
  }
 ],
 "metadata": {
  "kernelspec": {
   "display_name": "Python 3",
   "language": "python",
   "name": "python3"
  },
  "language_info": {
   "codemirror_mode": {
    "name": "ipython",
    "version": 3
   },
   "file_extension": ".py",
   "mimetype": "text/x-python",
   "name": "python",
   "nbconvert_exporter": "python",
   "pygments_lexer": "ipython3",
   "version": "3.6.5"
  }
 },
 "nbformat": 4,
 "nbformat_minor": 2
}
